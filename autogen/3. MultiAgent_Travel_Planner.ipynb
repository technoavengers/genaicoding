{
 "cells": [
  {
   "cell_type": "markdown",
   "id": "eeaa1986",
   "metadata": {},
   "source": [
    "# Multi-Agent Travel Planner with AutoGen\n",
    "\n",
    "This notebook will guide you through building a collaborative travel planning system using multiple AI agents. Each agent has a different role, and together they help create a personalized travel plan.\n",
    "\n",
    "We'll go step by step:\n",
    "1. Set up the environment and import libraries\n",
    "2. Load API keys and configure the model\n",
    "3. Define specialized agents\n",
    "4. Set up group chat for agent collaboration\n",
    "5. Run a travel planning task and view the results\n"
   ]
  },
  {
   "cell_type": "markdown",
   "id": "908a5f35",
   "metadata": {},
   "source": [
    "## 1. Import Required Libraries\n",
    "\n",
    "First, let's import the libraries we need. These include AutoGen modules for agents and group chat, as well as dotenv for loading environment variables."
   ]
  },
  {
   "cell_type": "code",
   "execution_count": 1,
   "id": "c5cec819",
   "metadata": {},
   "outputs": [],
   "source": [
    "import os\n",
    "import asyncio\n",
    "from autogen_agentchat.agents import AssistantAgent\n",
    "from autogen_agentchat.conditions import TextMentionTermination\n",
    "from autogen_agentchat.teams import RoundRobinGroupChat\n",
    "from autogen_agentchat.ui import Console\n",
    "from autogen_ext.models.openai import OpenAIChatCompletionClient\n",
    "from dotenv import load_dotenv"
   ]
  },
  {
   "cell_type": "markdown",
   "id": "8da88b67",
   "metadata": {},
   "source": [
    "## 2. Load API Keys and Configure Model\n",
    "\n",
    "We'll load our API keys from a `.env` file and set up the OpenAI model client. This allows our agents to use GPT-4o-mini for generating responses."
   ]
  },
  {
   "cell_type": "code",
   "execution_count": 2,
   "id": "2905d82e",
   "metadata": {},
   "outputs": [],
   "source": [
    "load_dotenv()\n",
    "\n",
    "model_client = OpenAIChatCompletionClient(model=\"gpt-4o-mini\")"
   ]
  },
  {
   "cell_type": "markdown",
   "id": "f76484d6",
   "metadata": {},
   "source": [
    "## 3. Define Specialized Agents\n",
    "\n",
    "We'll create three agents, each with a different role:\n",
    "- **Planner Agent**: Designs the travel itinerary.\n",
    "- **Budget Agent**: Checks if the plan fits the budget and suggests savings.\n",
    "- **Activity Agent**: Recommends places and activities to do.\n",
    "\n",
    "Each agent uses the same model client but has a unique system message describing its expertise."
   ]
  },
  {
   "cell_type": "code",
   "execution_count": null,
   "id": "96a7e1af",
   "metadata": {},
   "outputs": [],
   "source": [
    "planner_agent = AssistantAgent(\n",
    "    name=\"planner_agent\",\n",
    "    model_client=model_client,\n",
    "    description=\"Creates personalized travel plans.\",\n",
    "    system_message=\"You are a travel planner. Suggest a detailed itinerary based on destination, budget, and preferences.\"\n",
    ")\n",
    "\n",
    "budget_agent = AssistantAgent(\n",
    "    name=\"budget_agent\",\n",
    "    model_client=model_client,\n",
    "    description=\"Provides budgeting advice for travel.\",\n",
    "    system_message=\"You are a budgeting expert. Ensure the travel plan fits within the user's budget and suggest cost-saving tips.\"\n",
    ")\n",
    "\n",
    "activity_agent = AssistantAgent(\n",
    "    name=\"activity_agent\",\n",
    "    model_client=model_client,\n",
    "    description=\"Recommends activities and places to visit.\",\n",
    "    system_message=\"You are an activity expert. Recommend attractions, activities, and experiences for the destination.\"\n",
    ")"
   ]
  },
  {
   "cell_type": "markdown",
   "id": "6e101cb4",
   "metadata": {},
   "source": [
    "## 4. Set Up Group Chat for Collaboration\n",
    "\n",
    "Now we'll create a group chat where all agents can work together. We'll use a round-robin approach so each agent gets a turn to contribute. The chat will end when someone mentions 'TERMINATE'."
   ]
  },
  {
   "cell_type": "code",
   "execution_count": null,
   "id": "d38e5677",
   "metadata": {},
   "outputs": [],
   "source": [
    "termination = TextMentionTermination(\"TERMINATE\")\n",
    "\n",
    "group_chat = RoundRobinGroupChat(\n",
    "    [planner_agent, budget_agent, activity_agent],\n",
    "    termination_condition=termination\n",
    ")"
   ]
  },
  {
   "cell_type": "markdown",
   "id": "7d5a707f",
   "metadata": {},
   "source": [
    "## 5. Run the Travel Planning Task\n",
    "\n",
    "Let's ask our agents to plan a 5-day vacation to Japan with a budget of $2500. The agents will collaborate and share their expertise to create a complete plan. The results will be shown in the console."
   ]
  },
  {
   "cell_type": "code",
   "execution_count": null,
   "id": "52b304f9",
   "metadata": {},
   "outputs": [],
   "source": [
    "async def main():\n",
    "    await Console(group_chat.run_stream(task=\"I want a 5-day vacation to Japan under $2500.\"))\n",
    "    await model_client.close()\n",
    "\n",
    "asyncio.run(main())"
   ]
  }
 ],
 "metadata": {
  "kernelspec": {
   "display_name": "venv",
   "language": "python",
   "name": "python3"
  },
  "language_info": {
   "codemirror_mode": {
    "name": "ipython",
    "version": 3
   },
   "file_extension": ".py",
   "mimetype": "text/x-python",
   "name": "python",
   "nbconvert_exporter": "python",
   "pygments_lexer": "ipython3",
   "version": "3.13.7"
  }
 },
 "nbformat": 4,
 "nbformat_minor": 5
}
